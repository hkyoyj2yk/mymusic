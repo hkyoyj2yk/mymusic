{
 "cells": [
  {
   "cell_type": "code",
   "execution_count": 6,
   "metadata": {},
   "outputs": [
    {
     "data": {
      "text/plain": [
       "Index(['Unnamed: 0', 'song id', '곡 제목', '가수', 'tag count', 'tag max',\n",
       "       'emotion max', '곡 세부 장르 리스트', '발매일', '앨범 명', '앨범 ID', '아티스트 ID 리스트',\n",
       "       '곡 장르 리스트', '아티스트 리스트', '대분류str', '소분류str', 'tags', '우울한', '울고싶은',\n",
       "       '긴장되는', '무서운', '잔잔한', '행복한', '경쾌한', '편안한', '원가사', '좋아요수', '어제순위', '댓글1',\n",
       "       '댓글2', '댓글3', '댓글4', '댓글5', '1차 가공', 'tag_ori', 'sim', 'song_index',\n",
       "       '기쁨', '분노', '슬픔', 'euclidean distance', 'cosine sim', 'fin_score'],\n",
       "      dtype='object')"
      ]
     },
     "execution_count": 6,
     "metadata": {},
     "output_type": "execute_result"
    }
   ],
   "source": [
    "import pandas as pd\n",
    "data=pd.read_csv('recys_step3_result.csv')\n",
    "data.columns"
   ]
  },
  {
   "cell_type": "code",
   "execution_count": null,
   "metadata": {},
   "outputs": [],
   "source": []
  }
 ],
 "metadata": {
  "interpreter": {
   "hash": "63a2fa8701088d0273300603ea724908e621c0cb8e68adc22257679c104300ae"
  },
  "kernelspec": {
   "display_name": "Python 3.8.5 64-bit ('tensorflow': conda)",
   "language": "python",
   "name": "python3"
  },
  "language_info": {
   "codemirror_mode": {
    "name": "ipython",
    "version": 3
   },
   "file_extension": ".py",
   "mimetype": "text/x-python",
   "name": "python",
   "nbconvert_exporter": "python",
   "pygments_lexer": "ipython3",
   "version": "3.8.5"
  },
  "orig_nbformat": 4
 },
 "nbformat": 4,
 "nbformat_minor": 2
}
